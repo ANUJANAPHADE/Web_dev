{
  "nbformat": 4,
  "nbformat_minor": 5,
  "metadata": {
    "kernelspec": {
      "display_name": "Python 3",
      "language": "python",
      "name": "python3"
    },
    "language_info": {
      "codemirror_mode": {
        "name": "ipython",
        "version": 3
      },
      "file_extension": ".py",
      "mimetype": "text/x-python",
      "name": "python",
      "nbconvert_exporter": "python",
      "pygments_lexer": "ipython3",
      "version": "3.8.8"
    },
    "colab": {
      "name": "Loan Prediction Criteria.ipynb",
      "provenance": [],
      "collapsed_sections": [
        "1e9ac0f4",
        "1b7e5aa9",
        "67577c05",
        "5f3a4658",
        "9f0391d7",
        "4e2c71ad",
        "6ca0a730",
        "d7f2262d",
        "680664e7",
        "f3e52ddd",
        "fe89e346",
        "805b817d",
        "cd4261f9",
        "819f4218",
        "54b3ca97",
        "9bc45041",
        "fb2bf413",
        "cd13641f"
      ],
      "include_colab_link": true
    }
  },
  "cells": [
    {
      "cell_type": "markdown",
      "metadata": {
        "id": "view-in-github",
        "colab_type": "text"
      },
      "source": [
        "<a href=\"https://colab.research.google.com/github/ANUJANAPHADE/Web_dev/blob/main/Loan_Prediction_Criteria.ipynb\" target=\"_parent\"><img src=\"https://colab.research.google.com/assets/colab-badge.svg\" alt=\"Open In Colab\"/></a>"
      ]
    },
    {
      "cell_type": "markdown",
      "metadata": {
        "id": "be4c49cd"
      },
      "source": [
        "# Loan Prediction criteria"
      ],
      "id": "be4c49cd"
    },
    {
      "cell_type": "markdown",
      "metadata": {
        "id": "28Fks_Zt5_SG"
      },
      "source": [
        "Dataset of this project :- https://drive.google.com/drive/folders/1X2oyQZbe2khCobJsdZLPm4ow6gsuGTbZ?usp=sharing\n",
        "\n",
        "Google drive folder link for this project :- https://drive.google.com/drive/folders/1Nf_TUI3dVwiVNFSDx60zsh71QVsrpTc1?usp=sharing"
      ],
      "id": "28Fks_Zt5_SG"
    },
    {
      "cell_type": "markdown",
      "metadata": {
        "id": "08723de8"
      },
      "source": [
        "## Import Libraries"
      ],
      "id": "08723de8"
    },
    {
      "cell_type": "code",
      "metadata": {
        "id": "b3RQGd36yy3f"
      },
      "source": [
        "from google.colab import drive"
      ],
      "id": "b3RQGd36yy3f",
      "execution_count": 2,
      "outputs": []
    },
    {
      "cell_type": "code",
      "metadata": {
        "colab": {
          "base_uri": "https://localhost:8080/"
        },
        "id": "R_TH24sbzCpi",
        "outputId": "9d7758e3-3691-461f-a65f-79da89782c6b"
      },
      "source": [
        "drive.mount('/content/drive')"
      ],
      "id": "R_TH24sbzCpi",
      "execution_count": 3,
      "outputs": [
        {
          "output_type": "stream",
          "name": "stdout",
          "text": [
            "Mounted at /content/drive\n"
          ]
        }
      ]
    },
    {
      "cell_type": "code",
      "metadata": {
        "id": "113eb90b"
      },
      "source": [
        "import warnings\n",
        "warnings.filterwarnings('ignore')\n",
        "\n",
        "import numpy as np\n",
        "import pandas as pd\n",
        "import matplotlib.pyplot as plt\n",
        "import seaborn as sns\n",
        "import pickle"
      ],
      "id": "113eb90b",
      "execution_count": null,
      "outputs": []
    },
    {
      "cell_type": "markdown",
      "metadata": {
        "id": "4ffba930"
      },
      "source": [
        "## Data Loading"
      ],
      "id": "4ffba930"
    },
    {
      "cell_type": "code",
      "metadata": {
        "id": "83c482ca"
      },
      "source": [
        "data = pd.read_excel(\"/content/drive/MyDrive/Project1/LoanPrediction/dataset/data.xlsx\")"
      ],
      "id": "83c482ca",
      "execution_count": null,
      "outputs": []
    },
    {
      "cell_type": "markdown",
      "metadata": {
        "id": "5ada4f6c"
      },
      "source": [
        "## Data Preprocessing"
      ],
      "id": "5ada4f6c"
    },
    {
      "cell_type": "code",
      "metadata": {
        "colab": {
          "base_uri": "https://localhost:8080/"
        },
        "id": "636c063e",
        "outputId": "a9ae9683-63e8-48ae-a84f-0756bacd653c"
      },
      "source": [
        "print(len(data))"
      ],
      "id": "636c063e",
      "execution_count": null,
      "outputs": [
        {
          "output_type": "stream",
          "name": "stdout",
          "text": [
            "2456\n"
          ]
        }
      ]
    },
    {
      "cell_type": "code",
      "metadata": {
        "colab": {
          "base_uri": "https://localhost:8080/",
          "height": 240
        },
        "id": "a468fb1b",
        "outputId": "75950ec4-38db-4837-93cc-f5291bc65fec"
      },
      "source": [
        "data.head()"
      ],
      "id": "a468fb1b",
      "execution_count": null,
      "outputs": [
        {
          "output_type": "execute_result",
          "data": {
            "text/html": [
              "<div>\n",
              "<style scoped>\n",
              "    .dataframe tbody tr th:only-of-type {\n",
              "        vertical-align: middle;\n",
              "    }\n",
              "\n",
              "    .dataframe tbody tr th {\n",
              "        vertical-align: top;\n",
              "    }\n",
              "\n",
              "    .dataframe thead th {\n",
              "        text-align: right;\n",
              "    }\n",
              "</style>\n",
              "<table border=\"1\" class=\"dataframe\">\n",
              "  <thead>\n",
              "    <tr style=\"text-align: right;\">\n",
              "      <th></th>\n",
              "      <th>Loan_ID</th>\n",
              "      <th>Gender</th>\n",
              "      <th>Married</th>\n",
              "      <th>Dependents</th>\n",
              "      <th>Education</th>\n",
              "      <th>Self_Employed</th>\n",
              "      <th>ApplicantIncome</th>\n",
              "      <th>CoapplicantIncome</th>\n",
              "      <th>LoanAmount</th>\n",
              "      <th>Loan_Amount_Term</th>\n",
              "      <th>Credit_History</th>\n",
              "      <th>Property_Area</th>\n",
              "      <th>Loan_Status</th>\n",
              "    </tr>\n",
              "  </thead>\n",
              "  <tbody>\n",
              "    <tr>\n",
              "      <th>0</th>\n",
              "      <td>LP001002</td>\n",
              "      <td>Male</td>\n",
              "      <td>No</td>\n",
              "      <td>0</td>\n",
              "      <td>Graduate</td>\n",
              "      <td>No</td>\n",
              "      <td>5849</td>\n",
              "      <td>0.0</td>\n",
              "      <td>NaN</td>\n",
              "      <td>360.0</td>\n",
              "      <td>1.0</td>\n",
              "      <td>Urban</td>\n",
              "      <td>Y</td>\n",
              "    </tr>\n",
              "    <tr>\n",
              "      <th>1</th>\n",
              "      <td>LP001003</td>\n",
              "      <td>Male</td>\n",
              "      <td>Yes</td>\n",
              "      <td>1</td>\n",
              "      <td>Graduate</td>\n",
              "      <td>No</td>\n",
              "      <td>4583</td>\n",
              "      <td>1508.0</td>\n",
              "      <td>128.0</td>\n",
              "      <td>360.0</td>\n",
              "      <td>1.0</td>\n",
              "      <td>Rural</td>\n",
              "      <td>N</td>\n",
              "    </tr>\n",
              "    <tr>\n",
              "      <th>2</th>\n",
              "      <td>LP001005</td>\n",
              "      <td>Male</td>\n",
              "      <td>Yes</td>\n",
              "      <td>0</td>\n",
              "      <td>Graduate</td>\n",
              "      <td>Yes</td>\n",
              "      <td>3000</td>\n",
              "      <td>0.0</td>\n",
              "      <td>66.0</td>\n",
              "      <td>360.0</td>\n",
              "      <td>1.0</td>\n",
              "      <td>Urban</td>\n",
              "      <td>Y</td>\n",
              "    </tr>\n",
              "    <tr>\n",
              "      <th>3</th>\n",
              "      <td>LP001006</td>\n",
              "      <td>Male</td>\n",
              "      <td>Yes</td>\n",
              "      <td>0</td>\n",
              "      <td>Not Graduate</td>\n",
              "      <td>No</td>\n",
              "      <td>2583</td>\n",
              "      <td>2358.0</td>\n",
              "      <td>120.0</td>\n",
              "      <td>360.0</td>\n",
              "      <td>1.0</td>\n",
              "      <td>Urban</td>\n",
              "      <td>Y</td>\n",
              "    </tr>\n",
              "    <tr>\n",
              "      <th>4</th>\n",
              "      <td>LP001008</td>\n",
              "      <td>Male</td>\n",
              "      <td>No</td>\n",
              "      <td>0</td>\n",
              "      <td>Graduate</td>\n",
              "      <td>No</td>\n",
              "      <td>6000</td>\n",
              "      <td>0.0</td>\n",
              "      <td>141.0</td>\n",
              "      <td>360.0</td>\n",
              "      <td>1.0</td>\n",
              "      <td>Urban</td>\n",
              "      <td>Y</td>\n",
              "    </tr>\n",
              "  </tbody>\n",
              "</table>\n",
              "</div>"
            ],
            "text/plain": [
              "    Loan_ID Gender Married  ... Credit_History Property_Area Loan_Status\n",
              "0  LP001002   Male      No  ...            1.0         Urban           Y\n",
              "1  LP001003   Male     Yes  ...            1.0         Rural           N\n",
              "2  LP001005   Male     Yes  ...            1.0         Urban           Y\n",
              "3  LP001006   Male     Yes  ...            1.0         Urban           Y\n",
              "4  LP001008   Male      No  ...            1.0         Urban           Y\n",
              "\n",
              "[5 rows x 13 columns]"
            ]
          },
          "metadata": {},
          "execution_count": 57
        }
      ]
    },
    {
      "cell_type": "code",
      "metadata": {
        "colab": {
          "base_uri": "https://localhost:8080/"
        },
        "id": "50424933",
        "outputId": "b90e77e0-e0c4-4664-ffac-64b9f0e5d332"
      },
      "source": [
        "data.count()"
      ],
      "id": "50424933",
      "execution_count": null,
      "outputs": [
        {
          "output_type": "execute_result",
          "data": {
            "text/plain": [
              "Loan_ID              2456\n",
              "Gender               2404\n",
              "Married              2444\n",
              "Dependents           2396\n",
              "Education            2456\n",
              "Self_Employed        2328\n",
              "ApplicantIncome      2456\n",
              "CoapplicantIncome    2456\n",
              "LoanAmount           2368\n",
              "Loan_Amount_Term     2400\n",
              "Credit_History       2256\n",
              "Property_Area        2456\n",
              "Loan_Status          2456\n",
              "dtype: int64"
            ]
          },
          "metadata": {},
          "execution_count": 58
        }
      ]
    },
    {
      "cell_type": "markdown",
      "metadata": {
        "id": "fc73f87b"
      },
      "source": [
        "## Datatypes of the Features"
      ],
      "id": "fc73f87b"
    },
    {
      "cell_type": "code",
      "metadata": {
        "colab": {
          "base_uri": "https://localhost:8080/"
        },
        "id": "f095a648",
        "outputId": "90c1e823-28d3-4e6a-8e86-ca4495c2aa85"
      },
      "source": [
        "data.dtypes"
      ],
      "id": "f095a648",
      "execution_count": null,
      "outputs": [
        {
          "output_type": "execute_result",
          "data": {
            "text/plain": [
              "Loan_ID               object\n",
              "Gender                object\n",
              "Married               object\n",
              "Dependents            object\n",
              "Education             object\n",
              "Self_Employed         object\n",
              "ApplicantIncome        int64\n",
              "CoapplicantIncome    float64\n",
              "LoanAmount           float64\n",
              "Loan_Amount_Term     float64\n",
              "Credit_History       float64\n",
              "Property_Area         object\n",
              "Loan_Status           object\n",
              "dtype: object"
            ]
          },
          "metadata": {},
          "execution_count": 59
        }
      ]
    },
    {
      "cell_type": "code",
      "metadata": {
        "id": "e82e1773"
      },
      "source": [
        "del data[\"Loan_ID\"]"
      ],
      "id": "e82e1773",
      "execution_count": null,
      "outputs": []
    },
    {
      "cell_type": "code",
      "metadata": {
        "colab": {
          "base_uri": "https://localhost:8080/",
          "height": 240
        },
        "id": "27fff94f",
        "outputId": "cdef4d50-ff90-4198-9f09-fb69f6fb3560"
      },
      "source": [
        "data.head()"
      ],
      "id": "27fff94f",
      "execution_count": null,
      "outputs": [
        {
          "output_type": "execute_result",
          "data": {
            "text/html": [
              "<div>\n",
              "<style scoped>\n",
              "    .dataframe tbody tr th:only-of-type {\n",
              "        vertical-align: middle;\n",
              "    }\n",
              "\n",
              "    .dataframe tbody tr th {\n",
              "        vertical-align: top;\n",
              "    }\n",
              "\n",
              "    .dataframe thead th {\n",
              "        text-align: right;\n",
              "    }\n",
              "</style>\n",
              "<table border=\"1\" class=\"dataframe\">\n",
              "  <thead>\n",
              "    <tr style=\"text-align: right;\">\n",
              "      <th></th>\n",
              "      <th>Gender</th>\n",
              "      <th>Married</th>\n",
              "      <th>Dependents</th>\n",
              "      <th>Education</th>\n",
              "      <th>Self_Employed</th>\n",
              "      <th>ApplicantIncome</th>\n",
              "      <th>CoapplicantIncome</th>\n",
              "      <th>LoanAmount</th>\n",
              "      <th>Loan_Amount_Term</th>\n",
              "      <th>Credit_History</th>\n",
              "      <th>Property_Area</th>\n",
              "      <th>Loan_Status</th>\n",
              "    </tr>\n",
              "  </thead>\n",
              "  <tbody>\n",
              "    <tr>\n",
              "      <th>0</th>\n",
              "      <td>Male</td>\n",
              "      <td>No</td>\n",
              "      <td>0</td>\n",
              "      <td>Graduate</td>\n",
              "      <td>No</td>\n",
              "      <td>5849</td>\n",
              "      <td>0.0</td>\n",
              "      <td>NaN</td>\n",
              "      <td>360.0</td>\n",
              "      <td>1.0</td>\n",
              "      <td>Urban</td>\n",
              "      <td>Y</td>\n",
              "    </tr>\n",
              "    <tr>\n",
              "      <th>1</th>\n",
              "      <td>Male</td>\n",
              "      <td>Yes</td>\n",
              "      <td>1</td>\n",
              "      <td>Graduate</td>\n",
              "      <td>No</td>\n",
              "      <td>4583</td>\n",
              "      <td>1508.0</td>\n",
              "      <td>128.0</td>\n",
              "      <td>360.0</td>\n",
              "      <td>1.0</td>\n",
              "      <td>Rural</td>\n",
              "      <td>N</td>\n",
              "    </tr>\n",
              "    <tr>\n",
              "      <th>2</th>\n",
              "      <td>Male</td>\n",
              "      <td>Yes</td>\n",
              "      <td>0</td>\n",
              "      <td>Graduate</td>\n",
              "      <td>Yes</td>\n",
              "      <td>3000</td>\n",
              "      <td>0.0</td>\n",
              "      <td>66.0</td>\n",
              "      <td>360.0</td>\n",
              "      <td>1.0</td>\n",
              "      <td>Urban</td>\n",
              "      <td>Y</td>\n",
              "    </tr>\n",
              "    <tr>\n",
              "      <th>3</th>\n",
              "      <td>Male</td>\n",
              "      <td>Yes</td>\n",
              "      <td>0</td>\n",
              "      <td>Not Graduate</td>\n",
              "      <td>No</td>\n",
              "      <td>2583</td>\n",
              "      <td>2358.0</td>\n",
              "      <td>120.0</td>\n",
              "      <td>360.0</td>\n",
              "      <td>1.0</td>\n",
              "      <td>Urban</td>\n",
              "      <td>Y</td>\n",
              "    </tr>\n",
              "    <tr>\n",
              "      <th>4</th>\n",
              "      <td>Male</td>\n",
              "      <td>No</td>\n",
              "      <td>0</td>\n",
              "      <td>Graduate</td>\n",
              "      <td>No</td>\n",
              "      <td>6000</td>\n",
              "      <td>0.0</td>\n",
              "      <td>141.0</td>\n",
              "      <td>360.0</td>\n",
              "      <td>1.0</td>\n",
              "      <td>Urban</td>\n",
              "      <td>Y</td>\n",
              "    </tr>\n",
              "  </tbody>\n",
              "</table>\n",
              "</div>"
            ],
            "text/plain": [
              "  Gender Married Dependents  ... Credit_History Property_Area  Loan_Status\n",
              "0   Male      No          0  ...            1.0         Urban            Y\n",
              "1   Male     Yes          1  ...            1.0         Rural            N\n",
              "2   Male     Yes          0  ...            1.0         Urban            Y\n",
              "3   Male     Yes          0  ...            1.0         Urban            Y\n",
              "4   Male      No          0  ...            1.0         Urban            Y\n",
              "\n",
              "[5 rows x 12 columns]"
            ]
          },
          "metadata": {},
          "execution_count": 61
        }
      ]
    },
    {
      "cell_type": "markdown",
      "metadata": {
        "id": "1e9ac0f4"
      },
      "source": [
        "## Nullvalues analysis"
      ],
      "id": "1e9ac0f4"
    },
    {
      "cell_type": "code",
      "metadata": {
        "colab": {
          "base_uri": "https://localhost:8080/"
        },
        "id": "2c0d80dd",
        "outputId": "5c7aea5d-a152-4687-9129-e8671911d939"
      },
      "source": [
        "data.isnull().sum()"
      ],
      "id": "2c0d80dd",
      "execution_count": null,
      "outputs": [
        {
          "output_type": "execute_result",
          "data": {
            "text/plain": [
              "Gender                52\n",
              "Married               12\n",
              "Dependents            60\n",
              "Education              0\n",
              "Self_Employed        128\n",
              "ApplicantIncome        0\n",
              "CoapplicantIncome      0\n",
              "LoanAmount            88\n",
              "Loan_Amount_Term      56\n",
              "Credit_History       200\n",
              "Property_Area          0\n",
              "Loan_Status            0\n",
              "dtype: int64"
            ]
          },
          "metadata": {},
          "execution_count": 62
        }
      ]
    },
    {
      "cell_type": "code",
      "metadata": {
        "id": "e7106665"
      },
      "source": [
        "data[\"LoanAmount\"] = data[\"LoanAmount\"].fillna(0)\n",
        "data[\"Dependents\"] = data[\"Dependents\"].fillna(0)\n",
        "data[\"Loan_Amount_Term\"] = data[\"Loan_Amount_Term\"].fillna(0)\n",
        "data[\"Credit_History\"] = data[\"Credit_History\"].fillna(0)"
      ],
      "id": "e7106665",
      "execution_count": null,
      "outputs": []
    },
    {
      "cell_type": "code",
      "metadata": {
        "colab": {
          "base_uri": "https://localhost:8080/"
        },
        "id": "aaf5edee",
        "outputId": "065f43c6-6425-47e2-c5cf-3de70f83ad2f"
      },
      "source": [
        "data.isnull().sum()"
      ],
      "id": "aaf5edee",
      "execution_count": null,
      "outputs": [
        {
          "output_type": "execute_result",
          "data": {
            "text/plain": [
              "Gender                52\n",
              "Married               12\n",
              "Dependents             0\n",
              "Education              0\n",
              "Self_Employed        128\n",
              "ApplicantIncome        0\n",
              "CoapplicantIncome      0\n",
              "LoanAmount             0\n",
              "Loan_Amount_Term       0\n",
              "Credit_History         0\n",
              "Property_Area          0\n",
              "Loan_Status            0\n",
              "dtype: int64"
            ]
          },
          "metadata": {},
          "execution_count": 64
        }
      ]
    },
    {
      "cell_type": "markdown",
      "metadata": {
        "id": "1b7e5aa9"
      },
      "source": [
        "## Visualization - 1 Pie chart"
      ],
      "id": "1b7e5aa9"
    },
    {
      "cell_type": "code",
      "metadata": {
        "colab": {
          "base_uri": "https://localhost:8080/",
          "height": 265
        },
        "id": "5d9e4d5d",
        "outputId": "bb2b4b11-80c9-47b3-8946-9efd18516925"
      },
      "source": [
        "Gender = data[\"Gender\"].value_counts()\n",
        "color = [\"gold\", \"tan\"]\n",
        "Gender.plot.pie(colors = color)"
      ],
      "id": "5d9e4d5d",
      "execution_count": null,
      "outputs": [
        {
          "output_type": "execute_result",
          "data": {
            "text/plain": [
              "<matplotlib.axes._subplots.AxesSubplot at 0x7f42a82ff650>"
            ]
          },
          "metadata": {},
          "execution_count": 65
        },
        {
          "output_type": "display_data",
          "data": {
            "image/png": "[encoded data removed]",
            "text/plain": [
              "<Figure size 432x288 with 1 Axes>"
            ]
          },
          "metadata": {}
        }
      ]
    },
    {
      "cell_type": "markdown",
      "metadata": {
        "id": "67577c05"
      },
      "source": [
        "## Visualization - 2 Bar chart"
      ],
      "id": "67577c05"
    },
    {
      "cell_type": "code",
      "metadata": {
        "colab": {
          "base_uri": "https://localhost:8080/",
          "height": 288
        },
        "id": "91a2151c",
        "outputId": "41eeb238-6be6-4301-bf64-56612d8c1211"
      },
      "source": [
        "married = data[\"Married\"].value_counts()\n",
        "married.plot.bar(color = ['springgreen', 'crimson'])"
      ],
      "id": "91a2151c",
      "execution_count": null,
      "outputs": [
        {
          "output_type": "execute_result",
          "data": {
            "text/plain": [
              "<matplotlib.axes._subplots.AxesSubplot at 0x7f42a83a1550>"
            ]
          },
          "metadata": {},
          "execution_count": 66
        },
        {
          "output_type": "display_data",
          "data": {
            "image/png": "[encoded data removed]",
            "text/plain": [
              "<Figure size 432x288 with 1 Axes>"
            ]
          },
          "metadata": {
            "needs_background": "light"
          }
        }
      ]
    },
    {
      "cell_type": "markdown",
      "metadata": {
        "id": "5f3a4658"
      },
      "source": [
        "## Visualization - 3 Bar chart"
      ],
      "id": "5f3a4658"
    },
    {
      "cell_type": "code",
      "metadata": {
        "colab": {
          "base_uri": "https://localhost:8080/",
          "height": 342
        },
        "id": "7057f418",
        "outputId": "44acacbf-7866-407b-823f-a54a9ce0731c"
      },
      "source": [
        "Education = data[\"Education\"].value_counts()\n",
        "Education.plot.bar(color = [\"orangered\", \"tomato\"])"
      ],
      "id": "7057f418",
      "execution_count": null,
      "outputs": [
        {
          "output_type": "execute_result",
          "data": {
            "text/plain": [
              "<matplotlib.axes._subplots.AxesSubplot at 0x7f42a8343350>"
            ]
          },
          "metadata": {},
          "execution_count": 67
        },
        {
          "output_type": "display_data",
          "data": {
            "image/png": "[encoded data removed]",
            "text/plain": [
              "<Figure size 432x288 with 1 Axes>"
            ]
          },
          "metadata": {
            "needs_background": "light"
          }
        }
      ]
    },
    {
      "cell_type": "markdown",
      "metadata": {
        "id": "9f0391d7"
      },
      "source": [
        "## Visualization - 4 Horizondal bar chart"
      ],
      "id": "9f0391d7"
    },
    {
      "cell_type": "code",
      "metadata": {
        "colab": {
          "base_uri": "https://localhost:8080/",
          "height": 282
        },
        "id": "9f31419b",
        "outputId": "a0c80a55-863c-4b14-86e5-3b9eccccdb7f"
      },
      "source": [
        "self_employed = data[\"Self_Employed\"].value_counts()\n",
        "self_employed.plot.barh(color = [\"lawngreen\", \"lime\"])"
      ],
      "id": "9f31419b",
      "execution_count": null,
      "outputs": [
        {
          "output_type": "execute_result",
          "data": {
            "text/plain": [
              "<matplotlib.axes._subplots.AxesSubplot at 0x7f42a82d1f50>"
            ]
          },
          "metadata": {},
          "execution_count": 68
        },
        {
          "output_type": "display_data",
          "data": {
            "image/png": "[encoded data removed]",
            "text/plain": [
              "<Figure size 432x288 with 1 Axes>"
            ]
          },
          "metadata": {
            "needs_background": "light"
          }
        }
      ]
    },
    {
      "cell_type": "code",
      "metadata": {
        "colab": {
          "base_uri": "https://localhost:8080/"
        },
        "id": "56afd61d",
        "outputId": "3552b1a1-8ade-46a9-e84e-8dd39352ff4b"
      },
      "source": [
        "data[\"Property_Area\"].value_counts()"
      ],
      "id": "56afd61d",
      "execution_count": null,
      "outputs": [
        {
          "output_type": "execute_result",
          "data": {
            "text/plain": [
              "Semiurban    932\n",
              "Urban        808\n",
              "Rural        716\n",
              "Name: Property_Area, dtype: int64"
            ]
          },
          "metadata": {},
          "execution_count": 69
        }
      ]
    },
    {
      "cell_type": "markdown",
      "metadata": {
        "id": "4e2c71ad"
      },
      "source": [
        "## Visualization - 5 plot graph"
      ],
      "id": "4e2c71ad"
    },
    {
      "cell_type": "code",
      "metadata": {
        "colab": {
          "base_uri": "https://localhost:8080/",
          "height": 282
        },
        "id": "90824b53",
        "outputId": "429b1099-49e7-4fed-cf0c-4e63ba4fc63c"
      },
      "source": [
        "property_area = data[\"Property_Area\"].value_counts()\n",
        "property_area.plot(color = \"red\")"
      ],
      "id": "90824b53",
      "execution_count": null,
      "outputs": [
        {
          "output_type": "execute_result",
          "data": {
            "text/plain": [
              "<matplotlib.axes._subplots.AxesSubplot at 0x7f42a827ea10>"
            ]
          },
          "metadata": {},
          "execution_count": 70
        },
        {
          "output_type": "display_data",
          "data": {
            "image/png": "[encoded data removed]",
            "text/plain": [
              "<Figure size 432x288 with 1 Axes>"
            ]
          },
          "metadata": {
            "needs_background": "light"
          }
        }
      ]
    },
    {
      "cell_type": "markdown",
      "metadata": {
        "id": "6ca0a730"
      },
      "source": [
        "## Visualization - 7 Pie chart"
      ],
      "id": "6ca0a730"
    },
    {
      "cell_type": "code",
      "metadata": {
        "colab": {
          "base_uri": "https://localhost:8080/",
          "height": 265
        },
        "id": "a2c7b11a",
        "outputId": "5e6d0561-eac6-4f27-be0d-c23a1273bab0"
      },
      "source": [
        "target = data[\"Loan_Status\"].value_counts()\n",
        "color = [\"teal\", \"aqua\"]\n",
        "target.plot.pie(colors = color)"
      ],
      "id": "a2c7b11a",
      "execution_count": null,
      "outputs": [
        {
          "output_type": "execute_result",
          "data": {
            "text/plain": [
              "<matplotlib.axes._subplots.AxesSubplot at 0x7f42a81568d0>"
            ]
          },
          "metadata": {},
          "execution_count": 71
        },
        {
          "output_type": "display_data",
          "data": {
            "image/png": "[encoded data removed]",
            "text/plain": [
              "<Figure size 432x288 with 1 Axes>"
            ]
          },
          "metadata": {}
        }
      ]
    },
    {
      "cell_type": "markdown",
      "metadata": {
        "id": "d7f2262d"
      },
      "source": [
        "## Visualization - 8 Pie chart"
      ],
      "id": "d7f2262d"
    },
    {
      "cell_type": "code",
      "metadata": {
        "colab": {
          "base_uri": "https://localhost:8080/",
          "height": 248
        },
        "id": "f709e02a",
        "outputId": "b226b0df-7366-4e50-cb65-f8406500a425"
      },
      "source": [
        "maximum_applicantincome = data[\"ApplicantIncome\"].max()\n",
        "maximum_coapplicantincome = int(data[\"CoapplicantIncome\"].max())\n",
        "label_1 = np.array([maximum_applicantincome, maximum_coapplicantincome])\n",
        "label_2 = [\"Applicant_income\", \"Coapplicant_income\"]\n",
        "mycolors = [\"black\", \"hotpink\"]\n",
        "\n",
        "plt.pie(label_1, labels = label_2, colors = mycolors, startangle = 90)\n",
        "plt.legend()\n",
        "plt.show()"
      ],
      "id": "f709e02a",
      "execution_count": null,
      "outputs": [
        {
          "output_type": "display_data",
          "data": {
            "image/png": "[encoded data removed]",
            "text/plain": [
              "<Figure size 432x288 with 1 Axes>"
            ]
          },
          "metadata": {}
        }
      ]
    },
    {
      "cell_type": "code",
      "metadata": {
        "id": "786d45ad"
      },
      "source": [
        "data[\"Gender\"] = data[\"Gender\"].fillna(0)\n",
        "data[\"Married\"] = data[\"Married\"].fillna(0)\n",
        "data[\"Self_Employed\"] = data[\"Self_Employed\"].fillna(0)"
      ],
      "id": "786d45ad",
      "execution_count": null,
      "outputs": []
    },
    {
      "cell_type": "code",
      "metadata": {
        "colab": {
          "base_uri": "https://localhost:8080/"
        },
        "id": "2afa34f6",
        "outputId": "a42259c9-adeb-4679-93bf-3a142963c699"
      },
      "source": [
        "data.isnull().sum()"
      ],
      "id": "2afa34f6",
      "execution_count": null,
      "outputs": [
        {
          "output_type": "execute_result",
          "data": {
            "text/plain": [
              "Gender               0\n",
              "Married              0\n",
              "Dependents           0\n",
              "Education            0\n",
              "Self_Employed        0\n",
              "ApplicantIncome      0\n",
              "CoapplicantIncome    0\n",
              "LoanAmount           0\n",
              "Loan_Amount_Term     0\n",
              "Credit_History       0\n",
              "Property_Area        0\n",
              "Loan_Status          0\n",
              "dtype: int64"
            ]
          },
          "metadata": {},
          "execution_count": 74
        }
      ]
    },
    {
      "cell_type": "code",
      "metadata": {
        "colab": {
          "base_uri": "https://localhost:8080/",
          "height": 240
        },
        "id": "f4cec916",
        "outputId": "031b131f-873b-46ce-a1b9-1fb1e5c85e77"
      },
      "source": [
        "data.head()"
      ],
      "id": "f4cec916",
      "execution_count": null,
      "outputs": [
        {
          "output_type": "execute_result",
          "data": {
            "text/html": [
              "<div>\n",
              "<style scoped>\n",
              "    .dataframe tbody tr th:only-of-type {\n",
              "        vertical-align: middle;\n",
              "    }\n",
              "\n",
              "    .dataframe tbody tr th {\n",
              "        vertical-align: top;\n",
              "    }\n",
              "\n",
              "    .dataframe thead th {\n",
              "        text-align: right;\n",
              "    }\n",
              "</style>\n",
              "<table border=\"1\" class=\"dataframe\">\n",
              "  <thead>\n",
              "    <tr style=\"text-align: right;\">\n",
              "      <th></th>\n",
              "      <th>Gender</th>\n",
              "      <th>Married</th>\n",
              "      <th>Dependents</th>\n",
              "      <th>Education</th>\n",
              "      <th>Self_Employed</th>\n",
              "      <th>ApplicantIncome</th>\n",
              "      <th>CoapplicantIncome</th>\n",
              "      <th>LoanAmount</th>\n",
              "      <th>Loan_Amount_Term</th>\n",
              "      <th>Credit_History</th>\n",
              "      <th>Property_Area</th>\n",
              "      <th>Loan_Status</th>\n",
              "    </tr>\n",
              "  </thead>\n",
              "  <tbody>\n",
              "    <tr>\n",
              "      <th>0</th>\n",
              "      <td>Male</td>\n",
              "      <td>No</td>\n",
              "      <td>0</td>\n",
              "      <td>Graduate</td>\n",
              "      <td>No</td>\n",
              "      <td>5849</td>\n",
              "      <td>0.0</td>\n",
              "      <td>0.0</td>\n",
              "      <td>360.0</td>\n",
              "      <td>1.0</td>\n",
              "      <td>Urban</td>\n",
              "      <td>Y</td>\n",
              "    </tr>\n",
              "    <tr>\n",
              "      <th>1</th>\n",
              "      <td>Male</td>\n",
              "      <td>Yes</td>\n",
              "      <td>1</td>\n",
              "      <td>Graduate</td>\n",
              "      <td>No</td>\n",
              "      <td>4583</td>\n",
              "      <td>1508.0</td>\n",
              "      <td>128.0</td>\n",
              "      <td>360.0</td>\n",
              "      <td>1.0</td>\n",
              "      <td>Rural</td>\n",
              "      <td>N</td>\n",
              "    </tr>\n",
              "    <tr>\n",
              "      <th>2</th>\n",
              "      <td>Male</td>\n",
              "      <td>Yes</td>\n",
              "      <td>0</td>\n",
              "      <td>Graduate</td>\n",
              "      <td>Yes</td>\n",
              "      <td>3000</td>\n",
              "      <td>0.0</td>\n",
              "      <td>66.0</td>\n",
              "      <td>360.0</td>\n",
              "      <td>1.0</td>\n",
              "      <td>Urban</td>\n",
              "      <td>Y</td>\n",
              "    </tr>\n",
              "    <tr>\n",
              "      <th>3</th>\n",
              "      <td>Male</td>\n",
              "      <td>Yes</td>\n",
              "      <td>0</td>\n",
              "      <td>Not Graduate</td>\n",
              "      <td>No</td>\n",
              "      <td>2583</td>\n",
              "      <td>2358.0</td>\n",
              "      <td>120.0</td>\n",
              "      <td>360.0</td>\n",
              "      <td>1.0</td>\n",
              "      <td>Urban</td>\n",
              "      <td>Y</td>\n",
              "    </tr>\n",
              "    <tr>\n",
              "      <th>4</th>\n",
              "      <td>Male</td>\n",
              "      <td>No</td>\n",
              "      <td>0</td>\n",
              "      <td>Graduate</td>\n",
              "      <td>No</td>\n",
              "      <td>6000</td>\n",
              "      <td>0.0</td>\n",
              "      <td>141.0</td>\n",
              "      <td>360.0</td>\n",
              "      <td>1.0</td>\n",
              "      <td>Urban</td>\n",
              "      <td>Y</td>\n",
              "    </tr>\n",
              "  </tbody>\n",
              "</table>\n",
              "</div>"
            ],
            "text/plain": [
              "  Gender Married Dependents  ... Credit_History Property_Area  Loan_Status\n",
              "0   Male      No          0  ...            1.0         Urban            Y\n",
              "1   Male     Yes          1  ...            1.0         Rural            N\n",
              "2   Male     Yes          0  ...            1.0         Urban            Y\n",
              "3   Male     Yes          0  ...            1.0         Urban            Y\n",
              "4   Male      No          0  ...            1.0         Urban            Y\n",
              "\n",
              "[5 rows x 12 columns]"
            ]
          },
          "metadata": {},
          "execution_count": 75
        }
      ]
    },
    {
      "cell_type": "code",
      "metadata": {
        "colab": {
          "base_uri": "https://localhost:8080/"
        },
        "id": "e1326afc",
        "outputId": "bd22e5bd-2b52-4f1a-bb66-efde66b9c60b"
      },
      "source": [
        "for i in data.columns:\n",
        "    print(i)\n",
        "print(len(i))"
      ],
      "id": "e1326afc",
      "execution_count": null,
      "outputs": [
        {
          "output_type": "stream",
          "name": "stdout",
          "text": [
            "Gender\n",
            "Married\n",
            "Dependents\n",
            "Education\n",
            "Self_Employed\n",
            "ApplicantIncome\n",
            "CoapplicantIncome\n",
            "LoanAmount\n",
            "Loan_Amount_Term\n",
            "Credit_History\n",
            "Property_Area\n",
            "Loan_Status\n",
            "11\n"
          ]
        }
      ]
    },
    {
      "cell_type": "code",
      "metadata": {
        "id": "55d174ea"
      },
      "source": [
        "data['Dependents'] = data['Dependents'].replace([\"3+\"],3)"
      ],
      "id": "55d174ea",
      "execution_count": null,
      "outputs": []
    },
    {
      "cell_type": "markdown",
      "metadata": {
        "id": "680664e7"
      },
      "source": [
        "## String values to numeric values conversion"
      ],
      "id": "680664e7"
    },
    {
      "cell_type": "code",
      "metadata": {
        "id": "2d73f4b3"
      },
      "source": [
        "loan_status_numbers = {'Y': 1,'N': 0}\n",
        "data.Loan_Status = [loan_status_numbers[item] for item in data.Loan_Status]"
      ],
      "id": "2d73f4b3",
      "execution_count": null,
      "outputs": []
    },
    {
      "cell_type": "code",
      "metadata": {
        "id": "5b9bdd8c"
      },
      "source": [
        "data.Gender[data.Gender == 'Male'] = 1\n",
        "data.Gender[data.Gender == 'Female'] = 2"
      ],
      "id": "5b9bdd8c",
      "execution_count": null,
      "outputs": []
    },
    {
      "cell_type": "code",
      "metadata": {
        "id": "932dae89"
      },
      "source": [
        "data.Married[data.Married == 'Yes'] = 1\n",
        "data.Married[data.Married == 'No'] = 2"
      ],
      "id": "932dae89",
      "execution_count": null,
      "outputs": []
    },
    {
      "cell_type": "code",
      "metadata": {
        "id": "a1c65500"
      },
      "source": [
        "data.Education[data.Education == \"Graduate\"] = 1\n",
        "data.Education[data.Education == \"Not Graduate\"] = 0"
      ],
      "id": "a1c65500",
      "execution_count": null,
      "outputs": []
    },
    {
      "cell_type": "code",
      "metadata": {
        "id": "9b705d24"
      },
      "source": [
        "data.Self_Employed[data.Self_Employed == \"Yes\"] = 1\n",
        "data.Self_Employed[data.Self_Employed == \"No\"] = 0"
      ],
      "id": "9b705d24",
      "execution_count": null,
      "outputs": []
    },
    {
      "cell_type": "code",
      "metadata": {
        "id": "bad010b6"
      },
      "source": [
        "data.Property_Area[data.Property_Area == \"Rural\"] = 0\n",
        "data.Property_Area[data.Property_Area == \"Semiurban\"] = 1\n",
        "data.Property_Area[data.Property_Area == \"Urban\"] = 2"
      ],
      "id": "bad010b6",
      "execution_count": null,
      "outputs": []
    },
    {
      "cell_type": "code",
      "metadata": {
        "id": "b20127a6"
      },
      "source": [
        "x_data = data.iloc[:, data.columns != \"Loan_Status\"]\n",
        "y_data = data.iloc[:, data.columns == \"Loan_Status\"]"
      ],
      "id": "b20127a6",
      "execution_count": null,
      "outputs": []
    },
    {
      "cell_type": "code",
      "metadata": {
        "colab": {
          "base_uri": "https://localhost:8080/",
          "height": 223
        },
        "id": "6e25e2b3",
        "outputId": "aa56abd2-18a2-4f5a-a682-85166c87bb97"
      },
      "source": [
        "x_data.head()"
      ],
      "id": "6e25e2b3",
      "execution_count": null,
      "outputs": [
        {
          "output_type": "execute_result",
          "data": {
            "text/html": [
              "<div>\n",
              "<style scoped>\n",
              "    .dataframe tbody tr th:only-of-type {\n",
              "        vertical-align: middle;\n",
              "    }\n",
              "\n",
              "    .dataframe tbody tr th {\n",
              "        vertical-align: top;\n",
              "    }\n",
              "\n",
              "    .dataframe thead th {\n",
              "        text-align: right;\n",
              "    }\n",
              "</style>\n",
              "<table border=\"1\" class=\"dataframe\">\n",
              "  <thead>\n",
              "    <tr style=\"text-align: right;\">\n",
              "      <th></th>\n",
              "      <th>Gender</th>\n",
              "      <th>Married</th>\n",
              "      <th>Dependents</th>\n",
              "      <th>Education</th>\n",
              "      <th>Self_Employed</th>\n",
              "      <th>ApplicantIncome</th>\n",
              "      <th>CoapplicantIncome</th>\n",
              "      <th>LoanAmount</th>\n",
              "      <th>Loan_Amount_Term</th>\n",
              "      <th>Credit_History</th>\n",
              "      <th>Property_Area</th>\n",
              "    </tr>\n",
              "  </thead>\n",
              "  <tbody>\n",
              "    <tr>\n",
              "      <th>0</th>\n",
              "      <td>1</td>\n",
              "      <td>2</td>\n",
              "      <td>0</td>\n",
              "      <td>1</td>\n",
              "      <td>0</td>\n",
              "      <td>5849</td>\n",
              "      <td>0.0</td>\n",
              "      <td>0.0</td>\n",
              "      <td>360.0</td>\n",
              "      <td>1.0</td>\n",
              "      <td>2</td>\n",
              "    </tr>\n",
              "    <tr>\n",
              "      <th>1</th>\n",
              "      <td>1</td>\n",
              "      <td>1</td>\n",
              "      <td>1</td>\n",
              "      <td>1</td>\n",
              "      <td>0</td>\n",
              "      <td>4583</td>\n",
              "      <td>1508.0</td>\n",
              "      <td>128.0</td>\n",
              "      <td>360.0</td>\n",
              "      <td>1.0</td>\n",
              "      <td>0</td>\n",
              "    </tr>\n",
              "    <tr>\n",
              "      <th>2</th>\n",
              "      <td>1</td>\n",
              "      <td>1</td>\n",
              "      <td>0</td>\n",
              "      <td>1</td>\n",
              "      <td>1</td>\n",
              "      <td>3000</td>\n",
              "      <td>0.0</td>\n",
              "      <td>66.0</td>\n",
              "      <td>360.0</td>\n",
              "      <td>1.0</td>\n",
              "      <td>2</td>\n",
              "    </tr>\n",
              "    <tr>\n",
              "      <th>3</th>\n",
              "      <td>1</td>\n",
              "      <td>1</td>\n",
              "      <td>0</td>\n",
              "      <td>0</td>\n",
              "      <td>0</td>\n",
              "      <td>2583</td>\n",
              "      <td>2358.0</td>\n",
              "      <td>120.0</td>\n",
              "      <td>360.0</td>\n",
              "      <td>1.0</td>\n",
              "      <td>2</td>\n",
              "    </tr>\n",
              "    <tr>\n",
              "      <th>4</th>\n",
              "      <td>1</td>\n",
              "      <td>2</td>\n",
              "      <td>0</td>\n",
              "      <td>1</td>\n",
              "      <td>0</td>\n",
              "      <td>6000</td>\n",
              "      <td>0.0</td>\n",
              "      <td>141.0</td>\n",
              "      <td>360.0</td>\n",
              "      <td>1.0</td>\n",
              "      <td>2</td>\n",
              "    </tr>\n",
              "  </tbody>\n",
              "</table>\n",
              "</div>"
            ],
            "text/plain": [
              "  Gender Married  Dependents  ... Loan_Amount_Term Credit_History  Property_Area\n",
              "0      1       2           0  ...            360.0            1.0              2\n",
              "1      1       1           1  ...            360.0            1.0              0\n",
              "2      1       1           0  ...            360.0            1.0              2\n",
              "3      1       1           0  ...            360.0            1.0              2\n",
              "4      1       2           0  ...            360.0            1.0              2\n",
              "\n",
              "[5 rows x 11 columns]"
            ]
          },
          "metadata": {},
          "execution_count": 85
        }
      ]
    },
    {
      "cell_type": "markdown",
      "metadata": {
        "id": "f3e52ddd"
      },
      "source": [
        "## Object datatype into integer datatype conversion"
      ],
      "id": "f3e52ddd"
    },
    {
      "cell_type": "code",
      "metadata": {
        "id": "0471888a"
      },
      "source": [
        "x_data['Gender'] = x_data['Gender'].astype('int32')\n",
        "x_data['Married'] = x_data['Married'].astype('int32')\n",
        "x_data['Dependents'] = x_data['Dependents'].astype('int32')\n",
        "x_data['Education'] = x_data['Education'].astype('int32')\n",
        "x_data['Self_Employed'] = x_data['Self_Employed'].astype('int32')\n",
        "x_data['Property_Area'] = x_data['Property_Area'].astype('int32')"
      ],
      "id": "0471888a",
      "execution_count": null,
      "outputs": []
    },
    {
      "cell_type": "markdown",
      "metadata": {
        "id": "fe89e346"
      },
      "source": [
        "## Married and Non-married males and females"
      ],
      "id": "fe89e346"
    },
    {
      "cell_type": "code",
      "metadata": {
        "colab": {
          "base_uri": "https://localhost:8080/"
        },
        "id": "8faff942",
        "outputId": "9af5bb4c-c827-4189-da09-719bcd90f784"
      },
      "source": [
        "Married_count =  x_data.groupby(['Gender', \"Married\"],as_index=False).Married.count()[2:8]\n",
        "Married_count.drop([2, 5], inplace=True)\n",
        "print(Married_count)"
      ],
      "id": "8faff942",
      "execution_count": null,
      "outputs": [
        {
          "output_type": "stream",
          "name": "stdout",
          "text": [
            "   Gender  Married\n",
            "3       1     1428\n",
            "4       1      520\n",
            "6       2      124\n",
            "7       2      320\n"
          ]
        }
      ]
    },
    {
      "cell_type": "markdown",
      "metadata": {
        "id": "805b817d"
      },
      "source": [
        "## Graduated and Non-graduated males and females with respect to thier martial status"
      ],
      "id": "805b817d"
    },
    {
      "cell_type": "code",
      "metadata": {
        "colab": {
          "base_uri": "https://localhost:8080/"
        },
        "id": "e1811366",
        "outputId": "1838faf0-bb7f-4530-df39-52e71b9bd089"
      },
      "source": [
        "Education_count =  x_data.groupby(['Gender','Married'],as_index=False).Education.count()[3:8]\n",
        "Education_count.drop(5, inplace=True)\n",
        "\n",
        "\n",
        "print(Education_count)"
      ],
      "id": "e1811366",
      "execution_count": null,
      "outputs": [
        {
          "output_type": "stream",
          "name": "stdout",
          "text": [
            "   Gender  Married  Education\n",
            "3       1        1       1428\n",
            "4       1        2        520\n",
            "6       2        1        124\n",
            "7       2        2        320\n"
          ]
        }
      ]
    },
    {
      "cell_type": "markdown",
      "metadata": {
        "id": "cd4261f9"
      },
      "source": [
        "## The maximum loan amount of males and females"
      ],
      "id": "cd4261f9"
    },
    {
      "cell_type": "code",
      "metadata": {
        "colab": {
          "base_uri": "https://localhost:8080/"
        },
        "id": "8e2802af",
        "outputId": "5da14846-2733-49c8-a313-ac5ac8d83862"
      },
      "source": [
        "maximum_loan_amount = x_data.groupby(['Gender'], as_index=False).LoanAmount.max()[1:3]\n",
        "print(maximum_loan_amount)"
      ],
      "id": "8e2802af",
      "execution_count": null,
      "outputs": [
        {
          "output_type": "stream",
          "name": "stdout",
          "text": [
            "   Gender  LoanAmount\n",
            "1       1       650.0\n",
            "2       2       600.0\n"
          ]
        }
      ]
    },
    {
      "cell_type": "markdown",
      "metadata": {
        "id": "819f4218"
      },
      "source": [
        "## The Specifications of Maximum Applicantincome"
      ],
      "id": "819f4218"
    },
    {
      "cell_type": "code",
      "metadata": {
        "colab": {
          "base_uri": "https://localhost:8080/",
          "height": 100
        },
        "id": "79dbfee3",
        "outputId": "71d0ea46-94cb-494d-9dc2-f9c7d6ad2439"
      },
      "source": [
        "max_income_id = data[['ApplicantIncome']].idxmax()\n",
        "data.iloc[max_income_id]"
      ],
      "id": "79dbfee3",
      "execution_count": null,
      "outputs": [
        {
          "output_type": "execute_result",
          "data": {
            "text/html": [
              "<div>\n",
              "<style scoped>\n",
              "    .dataframe tbody tr th:only-of-type {\n",
              "        vertical-align: middle;\n",
              "    }\n",
              "\n",
              "    .dataframe tbody tr th {\n",
              "        vertical-align: top;\n",
              "    }\n",
              "\n",
              "    .dataframe thead th {\n",
              "        text-align: right;\n",
              "    }\n",
              "</style>\n",
              "<table border=\"1\" class=\"dataframe\">\n",
              "  <thead>\n",
              "    <tr style=\"text-align: right;\">\n",
              "      <th></th>\n",
              "      <th>Gender</th>\n",
              "      <th>Married</th>\n",
              "      <th>Dependents</th>\n",
              "      <th>Education</th>\n",
              "      <th>Self_Employed</th>\n",
              "      <th>ApplicantIncome</th>\n",
              "      <th>CoapplicantIncome</th>\n",
              "      <th>LoanAmount</th>\n",
              "      <th>Loan_Amount_Term</th>\n",
              "      <th>Credit_History</th>\n",
              "      <th>Property_Area</th>\n",
              "      <th>Loan_Status</th>\n",
              "    </tr>\n",
              "  </thead>\n",
              "  <tbody>\n",
              "    <tr>\n",
              "      <th>409</th>\n",
              "      <td>1</td>\n",
              "      <td>1</td>\n",
              "      <td>3</td>\n",
              "      <td>1</td>\n",
              "      <td>0</td>\n",
              "      <td>81000</td>\n",
              "      <td>0.0</td>\n",
              "      <td>360.0</td>\n",
              "      <td>360.0</td>\n",
              "      <td>0.0</td>\n",
              "      <td>0</td>\n",
              "      <td>0</td>\n",
              "    </tr>\n",
              "  </tbody>\n",
              "</table>\n",
              "</div>"
            ],
            "text/plain": [
              "    Gender Married  Dependents  ... Credit_History Property_Area  Loan_Status\n",
              "409      1       1           3  ...            0.0             0            0\n",
              "\n",
              "[1 rows x 12 columns]"
            ]
          },
          "metadata": {},
          "execution_count": 90
        }
      ]
    },
    {
      "cell_type": "markdown",
      "metadata": {
        "id": "54b3ca97"
      },
      "source": [
        "## Data Splitting"
      ],
      "id": "54b3ca97"
    },
    {
      "cell_type": "code",
      "metadata": {
        "id": "82c96210"
      },
      "source": [
        "from sklearn.model_selection import train_test_split"
      ],
      "id": "82c96210",
      "execution_count": null,
      "outputs": []
    },
    {
      "cell_type": "code",
      "metadata": {
        "id": "4bd7fadc"
      },
      "source": [
        "xtrain, xtest, ytrain, ytest = train_test_split(x_data, y_data, test_size=0.2)"
      ],
      "id": "4bd7fadc",
      "execution_count": null,
      "outputs": []
    },
    {
      "cell_type": "code",
      "metadata": {
        "colab": {
          "base_uri": "https://localhost:8080/"
        },
        "id": "33ff51ae",
        "outputId": "1131c3da-019a-4664-85d8-49f55dd9558d"
      },
      "source": [
        "xtrain.shape"
      ],
      "id": "33ff51ae",
      "execution_count": null,
      "outputs": [
        {
          "output_type": "execute_result",
          "data": {
            "text/plain": [
              "(1964, 11)"
            ]
          },
          "metadata": {},
          "execution_count": 93
        }
      ]
    },
    {
      "cell_type": "code",
      "metadata": {
        "colab": {
          "base_uri": "https://localhost:8080/"
        },
        "id": "c4e87230",
        "outputId": "e15827cc-90a7-41e4-8369-81939954930c"
      },
      "source": [
        "xtest.shape"
      ],
      "id": "c4e87230",
      "execution_count": null,
      "outputs": [
        {
          "output_type": "execute_result",
          "data": {
            "text/plain": [
              "(492, 11)"
            ]
          },
          "metadata": {},
          "execution_count": 94
        }
      ]
    },
    {
      "cell_type": "code",
      "metadata": {
        "colab": {
          "base_uri": "https://localhost:8080/"
        },
        "id": "c98d1347",
        "outputId": "287e758d-d8a4-40b1-e356-e602e488ba4d"
      },
      "source": [
        "ytrain.shape"
      ],
      "id": "c98d1347",
      "execution_count": null,
      "outputs": [
        {
          "output_type": "execute_result",
          "data": {
            "text/plain": [
              "(1964, 1)"
            ]
          },
          "metadata": {},
          "execution_count": 95
        }
      ]
    },
    {
      "cell_type": "code",
      "metadata": {
        "colab": {
          "base_uri": "https://localhost:8080/"
        },
        "id": "75724937",
        "outputId": "c1176b04-7d86-4808-9e54-e7bfab8b8371"
      },
      "source": [
        "ytest.shape"
      ],
      "id": "75724937",
      "execution_count": null,
      "outputs": [
        {
          "output_type": "execute_result",
          "data": {
            "text/plain": [
              "(492, 1)"
            ]
          },
          "metadata": {},
          "execution_count": 96
        }
      ]
    },
    {
      "cell_type": "markdown",
      "metadata": {
        "id": "9bc45041"
      },
      "source": [
        "## Model name : ANN (Artificial Neural Network)"
      ],
      "id": "9bc45041"
    },
    {
      "cell_type": "code",
      "metadata": {
        "id": "9bb59b60"
      },
      "source": [
        "from tensorflow.keras.models import Sequential\n",
        "from tensorflow.keras.layers import Dense"
      ],
      "id": "9bb59b60",
      "execution_count": null,
      "outputs": []
    },
    {
      "cell_type": "code",
      "metadata": {
        "id": "e2d69a3c"
      },
      "source": [
        "model=Sequential()"
      ],
      "id": "e2d69a3c",
      "execution_count": null,
      "outputs": []
    },
    {
      "cell_type": "code",
      "metadata": {
        "id": "b3e05c96"
      },
      "source": [
        "model.add(Dense(11, input_dim=11, activation=\"relu\"))\n",
        "model.add(Dense(11, activation=\"relu\"))\n",
        "model.add(Dense(1, activation=\"sigmoid\"))"
      ],
      "id": "b3e05c96",
      "execution_count": null,
      "outputs": []
    },
    {
      "cell_type": "code",
      "metadata": {
        "id": "fdb68568"
      },
      "source": [
        "model.compile(loss=\"binary_crossentropy\", optimizer=\"adam\", metrics=[\"accuracy\"])"
      ],
      "id": "fdb68568",
      "execution_count": null,
      "outputs": []
    },
    {
      "cell_type": "markdown",
      "metadata": {
        "id": "fb2bf413"
      },
      "source": [
        "## Model Building"
      ],
      "id": "fb2bf413"
    },
    {
      "cell_type": "code",
      "metadata": {
        "colab": {
          "base_uri": "https://localhost:8080/"
        },
        "id": "0ee4f5ae",
        "outputId": "06709ff0-d3f5-41e0-b10b-8918ab83534b"
      },
      "source": [
        "model.fit(xtrain, ytrain, epochs=50, batch_size=30)"
      ],
      "id": "0ee4f5ae",
      "execution_count": null,
      "outputs": [
        {
          "output_type": "stream",
          "name": "stdout",
          "text": [
            "Epoch 1/50\n",
            "66/66 [==============================] - 1s 1ms/step - loss: 80.4886 - accuracy: 0.5993\n",
            "Epoch 2/50\n",
            "66/66 [==============================] - 0s 1ms/step - loss: 39.2188 - accuracy: 0.5784\n",
            "Epoch 3/50\n",
            "66/66 [==============================] - 0s 1ms/step - loss: 11.3471 - accuracy: 0.5891\n",
            "Epoch 4/50\n",
            "66/66 [==============================] - 0s 1ms/step - loss: 7.7616 - accuracy: 0.5840\n",
            "Epoch 5/50\n",
            "66/66 [==============================] - 0s 2ms/step - loss: 6.3442 - accuracy: 0.5937\n",
            "Epoch 6/50\n",
            "66/66 [==============================] - 0s 1ms/step - loss: 4.1120 - accuracy: 0.6064\n",
            "Epoch 7/50\n",
            "66/66 [==============================] - 0s 2ms/step - loss: 5.1003 - accuracy: 0.6039\n",
            "Epoch 8/50\n",
            "66/66 [==============================] - 0s 2ms/step - loss: 4.6854 - accuracy: 0.5947\n",
            "Epoch 9/50\n",
            "66/66 [==============================] - 0s 2ms/step - loss: 3.3620 - accuracy: 0.6171\n",
            "Epoch 10/50\n",
            "66/66 [==============================] - 0s 1ms/step - loss: 4.0697 - accuracy: 0.6049\n",
            "Epoch 11/50\n",
            "66/66 [==============================] - 0s 2ms/step - loss: 3.0017 - accuracy: 0.5993\n",
            "Epoch 12/50\n",
            "66/66 [==============================] - 0s 2ms/step - loss: 2.8944 - accuracy: 0.6069\n",
            "Epoch 13/50\n",
            "66/66 [==============================] - 0s 2ms/step - loss: 2.6963 - accuracy: 0.5952\n",
            "Epoch 14/50\n",
            "66/66 [==============================] - 0s 2ms/step - loss: 2.4938 - accuracy: 0.6049\n",
            "Epoch 15/50\n",
            "66/66 [==============================] - 0s 2ms/step - loss: 3.2150 - accuracy: 0.6023\n",
            "Epoch 16/50\n",
            "66/66 [==============================] - 0s 1ms/step - loss: 2.1085 - accuracy: 0.6237\n",
            "Epoch 17/50\n",
            "66/66 [==============================] - 0s 2ms/step - loss: 3.1604 - accuracy: 0.6329\n",
            "Epoch 18/50\n",
            "66/66 [==============================] - 0s 2ms/step - loss: 3.2253 - accuracy: 0.5988\n",
            "Epoch 19/50\n",
            "66/66 [==============================] - 0s 2ms/step - loss: 6.9307 - accuracy: 0.5886\n",
            "Epoch 20/50\n",
            "66/66 [==============================] - 0s 2ms/step - loss: 5.2192 - accuracy: 0.5927\n",
            "Epoch 21/50\n",
            "66/66 [==============================] - 0s 1ms/step - loss: 3.2587 - accuracy: 0.6013\n",
            "Epoch 22/50\n",
            "66/66 [==============================] - 0s 1ms/step - loss: 6.0368 - accuracy: 0.5891\n",
            "Epoch 23/50\n",
            "66/66 [==============================] - 0s 2ms/step - loss: 2.2052 - accuracy: 0.6166\n",
            "Epoch 24/50\n",
            "66/66 [==============================] - 0s 1ms/step - loss: 2.1257 - accuracy: 0.6115\n",
            "Epoch 25/50\n",
            "66/66 [==============================] - 0s 2ms/step - loss: 2.9524 - accuracy: 0.6054\n",
            "Epoch 26/50\n",
            "66/66 [==============================] - 0s 2ms/step - loss: 2.1673 - accuracy: 0.6095\n",
            "Epoch 27/50\n",
            "66/66 [==============================] - 0s 2ms/step - loss: 1.9642 - accuracy: 0.6191\n",
            "Epoch 28/50\n",
            "66/66 [==============================] - 0s 1ms/step - loss: 2.5925 - accuracy: 0.6288\n",
            "Epoch 29/50\n",
            "66/66 [==============================] - 0s 2ms/step - loss: 2.7828 - accuracy: 0.5983\n",
            "Epoch 30/50\n",
            "66/66 [==============================] - 0s 1ms/step - loss: 1.5576 - accuracy: 0.6146\n",
            "Epoch 31/50\n",
            "66/66 [==============================] - 0s 2ms/step - loss: 3.8530 - accuracy: 0.6008\n",
            "Epoch 32/50\n",
            "66/66 [==============================] - 0s 1ms/step - loss: 2.6973 - accuracy: 0.6115\n",
            "Epoch 33/50\n",
            "66/66 [==============================] - 0s 2ms/step - loss: 4.7943 - accuracy: 0.5937\n",
            "Epoch 34/50\n",
            "66/66 [==============================] - 0s 1ms/step - loss: 2.8325 - accuracy: 0.6003\n",
            "Epoch 35/50\n",
            "66/66 [==============================] - 0s 2ms/step - loss: 2.4209 - accuracy: 0.6034\n",
            "Epoch 36/50\n",
            "66/66 [==============================] - 0s 1ms/step - loss: 5.3494 - accuracy: 0.5911\n",
            "Epoch 37/50\n",
            "66/66 [==============================] - 0s 2ms/step - loss: 1.8174 - accuracy: 0.6242\n",
            "Epoch 38/50\n",
            "66/66 [==============================] - 0s 2ms/step - loss: 3.9334 - accuracy: 0.5942\n",
            "Epoch 39/50\n",
            "66/66 [==============================] - 0s 2ms/step - loss: 3.2139 - accuracy: 0.6023\n",
            "Epoch 40/50\n",
            "66/66 [==============================] - 0s 2ms/step - loss: 1.6600 - accuracy: 0.6191\n",
            "Epoch 41/50\n",
            "66/66 [==============================] - 0s 2ms/step - loss: 2.7031 - accuracy: 0.6100\n",
            "Epoch 42/50\n",
            "66/66 [==============================] - 0s 2ms/step - loss: 1.6597 - accuracy: 0.6125\n",
            "Epoch 43/50\n",
            "66/66 [==============================] - 0s 2ms/step - loss: 2.9444 - accuracy: 0.6023\n",
            "Epoch 44/50\n",
            "66/66 [==============================] - 0s 2ms/step - loss: 2.6025 - accuracy: 0.5835\n",
            "Epoch 45/50\n",
            "66/66 [==============================] - 0s 2ms/step - loss: 2.6918 - accuracy: 0.6141\n",
            "Epoch 46/50\n",
            "66/66 [==============================] - 0s 2ms/step - loss: 2.8764 - accuracy: 0.6064\n",
            "Epoch 47/50\n",
            "66/66 [==============================] - 0s 1ms/step - loss: 1.4497 - accuracy: 0.6324\n",
            "Epoch 48/50\n",
            "66/66 [==============================] - 0s 1ms/step - loss: 2.4548 - accuracy: 0.6095\n",
            "Epoch 49/50\n",
            "66/66 [==============================] - 0s 1ms/step - loss: 2.9507 - accuracy: 0.6125\n",
            "Epoch 50/50\n",
            "66/66 [==============================] - 0s 1ms/step - loss: 2.1994 - accuracy: 0.6079\n"
          ]
        },
        {
          "output_type": "execute_result",
          "data": {
            "text/plain": [
              "<keras.callbacks.History at 0x7f42a80b98d0>"
            ]
          },
          "metadata": {},
          "execution_count": 101
        }
      ]
    },
    {
      "cell_type": "code",
      "metadata": {
        "colab": {
          "base_uri": "https://localhost:8080/"
        },
        "id": "ed668eaa",
        "outputId": "76d32e8f-d5ac-44c0-97d6-caf39ae7da57"
      },
      "source": [
        "_ , Accuracy = model.evaluate(xtest, ytest)\n",
        "\n",
        "print(\"Accuracy Score for test data:\", Accuracy)"
      ],
      "id": "ed668eaa",
      "execution_count": null,
      "outputs": [
        {
          "output_type": "stream",
          "name": "stdout",
          "text": [
            "16/16 [==============================] - 0s 1ms/step - loss: 3.2877 - accuracy: 0.3049\n",
            "Accuracy Score for test data: 0.3048780560493469\n"
          ]
        }
      ]
    },
    {
      "cell_type": "markdown",
      "metadata": {
        "id": "cd13641f"
      },
      "source": [
        "## Saving our model as pickle file"
      ],
      "id": "cd13641f"
    },
    {
      "cell_type": "code",
      "metadata": {
        "id": "edd2a179"
      },
      "source": [
        "model.save(\"model/model.h5\")"
      ],
      "id": "edd2a179",
      "execution_count": null,
      "outputs": []
    },
    {
      "cell_type": "markdown",
      "metadata": {
        "id": "66f79076"
      },
      "source": [
        "## Conclusion"
      ],
      "id": "66f79076"
    },
    {
      "cell_type": "markdown",
      "metadata": {
        "id": "3288e60f"
      },
      "source": [
        "#### The final conclusion of our project is 'graduated' and 'married' 'males'  are showing interest to get loans. "
      ],
      "id": "3288e60f"
    },
    {
      "cell_type": "markdown",
      "metadata": {
        "id": "S3VLLobK4R-o"
      },
      "source": [
        "## **Project 1 Questions and Answers**\n",
        "  \n",
        "  **1.What's the ratio of Male to Female?**\n",
        "     = Male has greater ratio than Female\n",
        "\n",
        "**2. How many Males are married and unmarried?**\n",
        "= Married count are greater than unmarried,married are 1428 and unmarried are 520\n",
        "\n",
        "**3. How many Females are married and unmarried?**\n",
        "= Unmarried count are greater than married,married are 124 and unmarried are 320\n",
        "\n",
        "**4. How many Males and Females are graduated and non-graduated with respect to their Marital status?**\n",
        "= Male:graduated-1423,non-graduated-520 Female:graduated-124,non-graduated-320\n",
        "\n",
        "**5. Which type of encoding will be required to perform on the \"Education\" column?**\n",
        "= Label encoding\n",
        "\n",
        "**6. Is it a male or a female whose loan amount is the highest?**\n",
        "= Male\n",
        "\n",
        "**7. the specification and information about the applicant who has the highest income?**\n",
        "= Married,Male and graduated\n",
        "\n",
        "**8. Which model are you going to choose and define the reason for going with the same model?**\n",
        "= ANN model because this model accept numerical type data ex.excel sheet data and give us a effective model\n",
        "\n",
        "**9. Have you performed the Hyper Parameter Tuning?**\n",
        "= Yes\n",
        "\n",
        "**10. What's the accuracy of your model?**\n",
        "= 61%\n",
        "\n",
        "**11. In order to improve the accuracy, what more approaches can be done?**\n",
        "= Take epochs value twice than the current epochs \n",
        "\n",
        "**12. What can you conclude with respect to the data?**\n",
        "= The final conclusion of our project is ‘Married’, ‘Male’ and ‘Graduated’ are showing interest to get a loan.\n",
        "\n",
        "                              "
      ],
      "id": "S3VLLobK4R-o"
    }
  ]
}